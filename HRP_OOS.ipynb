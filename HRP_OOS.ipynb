{
 "cells": [
  {
   "cell_type": "code",
   "execution_count": 1,
   "id": "be90b136",
   "metadata": {},
   "outputs": [],
   "source": [
    "import pandas as pd\n",
    "pd.options.display.float_format = '{:.6g}'.format\n",
    "import scipy.cluster.hierarchy\n",
    "import scipy.spatial.distance\n",
    "import numpy as np\n",
    "import matplotlib.pyplot as plt\n",
    "import collections\n",
    "import random\n",
    "import warnings\n",
    "warnings.filterwarnings('ignore')\n",
    "from hrp import HRP\n",
    "from datetime import datetime, timedelta\n",
    "from dateutil.relativedelta import relativedelta\n",
    "import time"
   ]
  },
  {
   "cell_type": "markdown",
   "id": "628656d3",
   "metadata": {},
   "source": [
    "# OOS PERFORMANCE"
   ]
  },
  {
   "cell_type": "code",
   "execution_count": 2,
   "id": "8f29d919",
   "metadata": {},
   "outputs": [],
   "source": [
    "def get_oos_ret_freq(data, start_date, end_date, freq=\"M\"):\n",
    "    \"\"\"\n",
    "    Get Out of Sample data in returns format for each frequency period.\n",
    "    \n",
    "    Args:\n",
    "        data (pd.DataFrame): Input data with 'Date' column and asset returns\n",
    "        start_date (str): Start date in YYYY-MM-DD format\n",
    "        end_date (str): End date in YYYY-MM-DD format \n",
    "        freq (str): Frequency for resampling ('M' for monthly, 'W' for weekly etc)\n",
    "        \n",
    "    Returns:\n",
    "        pd.DataFrame: Resampled returns dataframe with portfolio returns columns\n",
    "    \"\"\"\n",
    "    # Filter data for date range\n",
    "    filter_data = data[(data['Date'] >= start_date) & (data['Date'] <= end_date)]\n",
    "    filter_data.set_index('Date', inplace=True)\n",
    "    \n",
    "    # Calculate returns and handle missing values\n",
    "    returns_df = filter_data.pct_change()\n",
    "    returns_df = returns_df.dropna(how=\"all\").dropna(axis=1, how=\"all\").fillna(0)\n",
    "    \n",
    "    # Convert to cumulative returns for the frequency period\n",
    "    adj_ret = returns_df + 1\n",
    "    adj_ret_freq = adj_ret.groupby(adj_ret.index.to_period(freq)).cumprod()\n",
    "    ret_freq = adj_ret_freq.resample(freq).last().fillna(0)\n",
    "    \n",
    "    # Initialize portfolio return columns\n",
    "    ret_freq[['EQ_Ret','HRP_Ret','RP_Ret','MV_Ret']] = 0\n",
    "    \n",
    "    return ret_freq\n",
    "\n",
    "def get_rolling_returns(main_data, data_oos, lookback_days):\n",
    "    \"\"\"\n",
    "    Calculate rolling returns and weight variances using different portfolio strategies.\n",
    "    \n",
    "    Args:\n",
    "        main_data (pd.DataFrame): Complete dataset for training\n",
    "        data_oos (pd.DataFrame): Out of sample data for testing\n",
    "        lookback_days (int): Number of days to use for training window\n",
    "        \n",
    "    Returns:\n",
    "        tuple: (Portfolio returns DataFrame, Weight variance DataFrame)\n",
    "    \"\"\"\n",
    "    start_timer = time.time()\n",
    "    \n",
    "    # Initialize weight DataFrames\n",
    "    weight_dfs = {\n",
    "        'HRP': pd.DataFrame(),\n",
    "        'RP': pd.DataFrame(), \n",
    "        'MV': pd.DataFrame()\n",
    "    }\n",
    "    \n",
    "    # Calculate equal weight portfolio returns\n",
    "    num_assets = data_oos.shape[1] - 4\n",
    "    eq_weights = 1/num_assets\n",
    "    data_oos['EQ_Ret'] = np.sum(data_oos.iloc[:,:num_assets] * eq_weights, axis=1)\n",
    "\n",
    "    # Calculate rolling returns for each date\n",
    "    for i, date in enumerate(data_oos.index):\n",
    "        # Get training period dates\n",
    "        end_date_train = (date.replace(day=1) - timedelta(days=1))\n",
    "        start_date_train = end_date_train - relativedelta(days=lookback_days)\n",
    "        \n",
    "        end_date_train = end_date_train.strftime(\"%Y-%m-%d\")\n",
    "        start_date_train = start_date_train.strftime(\"%Y-%m-%d\")\n",
    "\n",
    "        # Print progress\n",
    "        if (i+1)%5==0 or (i==0):\n",
    "            print(f\"Starting train iteration {i+1}. Start: {start_date_train}. End: {end_date_train}\")\n",
    "\n",
    "        # Calculate portfolio weights\n",
    "        hrp_oos = HRP(prior_data=main_data, start_date=start_date_train, end_date=end_date_train)\n",
    "        weights = {\n",
    "            'HRP': pd.Series(hrp_oos.calculate_hrp_weights()),\n",
    "            'RP': pd.Series(hrp_oos.calculate_RP_weights()),\n",
    "            'MV': pd.Series(hrp_oos.calculate_MV_weights())\n",
    "        }\n",
    "        \n",
    "        # Store weights and calculate returns\n",
    "        for method, w in weights.items():\n",
    "            weight_dfs[method] = pd.concat([weight_dfs[method], w], axis=1)\n",
    "            data_oos.loc[date, f'{method}_Ret'] = np.sum(data_oos.iloc[i,:num_assets] * w)\n",
    "    \n",
    "    # Calculate weight variances\n",
    "    weight_var = {method: np.mean(df.T.var()) for method, df in weight_dfs.items()}\n",
    "    weight_var_df = pd.DataFrame(weight_var, index=[\"Variance\"]).T\n",
    "\n",
    "    print(f\"Time Taken for training: {time.time()-start_timer:.4f} sec\")\n",
    "    \n",
    "    return data_oos[['EQ_Ret','HRP_Ret','RP_Ret','MV_Ret']], weight_var_df\n",
    "\n",
    "def get_ret_stats(roll_df):\n",
    "    \"\"\"\n",
    "    Calculate mean and variance statistics for portfolio returns.\n",
    "    \n",
    "    Args:\n",
    "        roll_df (pd.DataFrame): Portfolio returns DataFrame\n",
    "        \n",
    "    Returns:\n",
    "        pd.DataFrame: Mean and variance statistics\n",
    "    \"\"\"\n",
    "    return pd.DataFrame({\n",
    "        'Mean': roll_df.mean(),\n",
    "        'Variance': roll_df.var()\n",
    "    }).T\n"
   ]
  },
  {
   "cell_type": "markdown",
   "id": "efd94848",
   "metadata": {},
   "source": [
    "### EQUITIES"
   ]
  },
  {
   "cell_type": "code",
   "execution_count": 3,
   "id": "1b7f694c",
   "metadata": {},
   "outputs": [
    {
     "name": "stdout",
     "output_type": "stream",
     "text": [
      "Starting train iteration 1. Start: 2021-12-31. End: 2023-12-31\n",
      "Starting train iteration 5. Start: 2022-05-01. End: 2024-04-30\n",
      "Starting train iteration 10. Start: 2022-10-01. End: 2024-09-30\n",
      "Time Taken for training: 12.5091 sec\n"
     ]
    }
   ],
   "source": [
    "stock_data = pd.read_csv('data/sp500v2.csv')\n",
    "stock_data['Date'] = pd.to_datetime(stock_data['Date'])\n",
    "\n",
    "start_stock_oos = '2024-01-01'\n",
    "end_stock_oos= '2024-12-31'\n",
    "\n",
    "oos_stock_data = get_oos_ret_freq(stock_data,start_stock_oos,end_stock_oos,\"M\")\n",
    "rolling_returns_stock, weight_var_stock = get_rolling_returns(stock_data,oos_stock_data, 2*365)\n",
    "equity_stats = get_ret_stats(rolling_returns_stock)"
   ]
  },
  {
   "cell_type": "code",
   "execution_count": 4,
   "id": "686a4798",
   "metadata": {},
   "outputs": [
    {
     "data": {
      "text/html": [
       "<div>\n",
       "<style scoped>\n",
       "    .dataframe tbody tr th:only-of-type {\n",
       "        vertical-align: middle;\n",
       "    }\n",
       "\n",
       "    .dataframe tbody tr th {\n",
       "        vertical-align: top;\n",
       "    }\n",
       "\n",
       "    .dataframe thead th {\n",
       "        text-align: right;\n",
       "    }\n",
       "</style>\n",
       "<table border=\"1\" class=\"dataframe\">\n",
       "  <thead>\n",
       "    <tr style=\"text-align: right;\">\n",
       "      <th></th>\n",
       "      <th>EQ_Ret</th>\n",
       "      <th>HRP_Ret</th>\n",
       "      <th>RP_Ret</th>\n",
       "      <th>MV_Ret</th>\n",
       "    </tr>\n",
       "    <tr>\n",
       "      <th>Date</th>\n",
       "      <th></th>\n",
       "      <th></th>\n",
       "      <th></th>\n",
       "      <th></th>\n",
       "    </tr>\n",
       "  </thead>\n",
       "  <tbody>\n",
       "    <tr>\n",
       "      <th>2024-01-31</th>\n",
       "      <td>0.997307</td>\n",
       "      <td>0.996151</td>\n",
       "      <td>0.996808</td>\n",
       "      <td>1.01126</td>\n",
       "    </tr>\n",
       "    <tr>\n",
       "      <th>2024-02-29</th>\n",
       "      <td>1.04454</td>\n",
       "      <td>1.03766</td>\n",
       "      <td>1.03627</td>\n",
       "      <td>0.497857</td>\n",
       "    </tr>\n",
       "    <tr>\n",
       "      <th>2024-03-31</th>\n",
       "      <td>1.04601</td>\n",
       "      <td>1.04389</td>\n",
       "      <td>1.04332</td>\n",
       "      <td>0.835641</td>\n",
       "    </tr>\n",
       "    <tr>\n",
       "      <th>2024-04-30</th>\n",
       "      <td>0.952252</td>\n",
       "      <td>0.95623</td>\n",
       "      <td>0.958598</td>\n",
       "      <td>0.767431</td>\n",
       "    </tr>\n",
       "    <tr>\n",
       "      <th>2024-05-31</th>\n",
       "      <td>1.02973</td>\n",
       "      <td>1.02301</td>\n",
       "      <td>1.02678</td>\n",
       "      <td>0.836609</td>\n",
       "    </tr>\n",
       "  </tbody>\n",
       "</table>\n",
       "</div>"
      ],
      "text/plain": [
       "             EQ_Ret  HRP_Ret   RP_Ret   MV_Ret\n",
       "Date                                          \n",
       "2024-01-31 0.997307 0.996151 0.996808  1.01126\n",
       "2024-02-29  1.04454  1.03766  1.03627 0.497857\n",
       "2024-03-31  1.04601  1.04389  1.04332 0.835641\n",
       "2024-04-30 0.952252  0.95623 0.958598 0.767431\n",
       "2024-05-31  1.02973  1.02301  1.02678 0.836609"
      ]
     },
     "execution_count": 4,
     "metadata": {},
     "output_type": "execute_result"
    }
   ],
   "source": [
    "rolling_returns_stock.head(5)"
   ]
  },
  {
   "cell_type": "code",
   "execution_count": 5,
   "id": "031462b1",
   "metadata": {},
   "outputs": [
    {
     "data": {
      "text/html": [
       "<div>\n",
       "<style scoped>\n",
       "    .dataframe tbody tr th:only-of-type {\n",
       "        vertical-align: middle;\n",
       "    }\n",
       "\n",
       "    .dataframe tbody tr th {\n",
       "        vertical-align: top;\n",
       "    }\n",
       "\n",
       "    .dataframe thead th {\n",
       "        text-align: right;\n",
       "    }\n",
       "</style>\n",
       "<table border=\"1\" class=\"dataframe\">\n",
       "  <thead>\n",
       "    <tr style=\"text-align: right;\">\n",
       "      <th></th>\n",
       "      <th>EQ_Ret</th>\n",
       "      <th>HRP_Ret</th>\n",
       "      <th>RP_Ret</th>\n",
       "      <th>MV_Ret</th>\n",
       "    </tr>\n",
       "  </thead>\n",
       "  <tbody>\n",
       "    <tr>\n",
       "      <th>Mean</th>\n",
       "      <td>1.01243</td>\n",
       "      <td>1.01167</td>\n",
       "      <td>1.01207</td>\n",
       "      <td>0.936131</td>\n",
       "    </tr>\n",
       "    <tr>\n",
       "      <th>Variance</th>\n",
       "      <td>0.00153719</td>\n",
       "      <td>0.00140591</td>\n",
       "      <td>0.00142733</td>\n",
       "      <td>0.0539252</td>\n",
       "    </tr>\n",
       "  </tbody>\n",
       "</table>\n",
       "</div>"
      ],
      "text/plain": [
       "             EQ_Ret    HRP_Ret     RP_Ret    MV_Ret\n",
       "Mean        1.01243    1.01167    1.01207  0.936131\n",
       "Variance 0.00153719 0.00140591 0.00142733 0.0539252"
      ]
     },
     "execution_count": 5,
     "metadata": {},
     "output_type": "execute_result"
    }
   ],
   "source": [
    "equity_stats"
   ]
  },
  {
   "cell_type": "code",
   "execution_count": 6,
   "id": "8a43dbc5",
   "metadata": {},
   "outputs": [
    {
     "data": {
      "text/html": [
       "<div>\n",
       "<style scoped>\n",
       "    .dataframe tbody tr th:only-of-type {\n",
       "        vertical-align: middle;\n",
       "    }\n",
       "\n",
       "    .dataframe tbody tr th {\n",
       "        vertical-align: top;\n",
       "    }\n",
       "\n",
       "    .dataframe thead th {\n",
       "        text-align: right;\n",
       "    }\n",
       "</style>\n",
       "<table border=\"1\" class=\"dataframe\">\n",
       "  <thead>\n",
       "    <tr style=\"text-align: right;\">\n",
       "      <th></th>\n",
       "      <th>Variance</th>\n",
       "    </tr>\n",
       "  </thead>\n",
       "  <tbody>\n",
       "    <tr>\n",
       "      <th>HRP</th>\n",
       "      <td>3.17073e-06</td>\n",
       "    </tr>\n",
       "    <tr>\n",
       "      <th>RP</th>\n",
       "      <td>2.68335e-07</td>\n",
       "    </tr>\n",
       "    <tr>\n",
       "      <th>MV</th>\n",
       "      <td>0.0684863</td>\n",
       "    </tr>\n",
       "  </tbody>\n",
       "</table>\n",
       "</div>"
      ],
      "text/plain": [
       "       Variance\n",
       "HRP 3.17073e-06\n",
       "RP  2.68335e-07\n",
       "MV    0.0684863"
      ]
     },
     "execution_count": 6,
     "metadata": {},
     "output_type": "execute_result"
    }
   ],
   "source": [
    "weight_var_stock"
   ]
  },
  {
   "cell_type": "markdown",
   "id": "1a330403",
   "metadata": {},
   "source": [
    "### COMMODITIES"
   ]
  },
  {
   "cell_type": "code",
   "execution_count": 7,
   "id": "766dcf94",
   "metadata": {},
   "outputs": [
    {
     "name": "stdout",
     "output_type": "stream",
     "text": [
      "Starting train iteration 1. Start: 2016-12-31. End: 2018-12-31\n",
      "Starting train iteration 5. Start: 2017-04-30. End: 2019-04-30\n",
      "Starting train iteration 10. Start: 2017-09-30. End: 2019-09-30\n",
      "Starting train iteration 15. Start: 2018-03-01. End: 2020-02-29\n",
      "Starting train iteration 20. Start: 2018-08-01. End: 2020-07-31\n",
      "Starting train iteration 25. Start: 2019-01-01. End: 2020-12-31\n",
      "Starting train iteration 30. Start: 2019-06-01. End: 2021-05-31\n",
      "Starting train iteration 35. Start: 2019-11-01. End: 2021-10-31\n",
      "Starting train iteration 40. Start: 2020-03-31. End: 2022-03-31\n",
      "Starting train iteration 45. Start: 2020-08-31. End: 2022-08-31\n",
      "Starting train iteration 50. Start: 2021-01-31. End: 2023-01-31\n",
      "Starting train iteration 55. Start: 2021-06-30. End: 2023-06-30\n",
      "Starting train iteration 60. Start: 2021-11-30. End: 2023-11-30\n",
      "Starting train iteration 65. Start: 2022-05-01. End: 2024-04-30\n",
      "Starting train iteration 70. Start: 2022-10-01. End: 2024-09-30\n",
      "Time Taken for training: 1.2208 sec\n"
     ]
    }
   ],
   "source": [
    "comm_data = pd.read_csv('data/commodities_data.csv')\n",
    "comm_data['Date'] = pd.to_datetime(comm_data['Date'])\n",
    "\n",
    "start_comm_oos = '2019-01-01'\n",
    "end_comm_oos= '2024-12-31'\n",
    "\n",
    "oos_comm_data = get_oos_ret_freq(comm_data,start_comm_oos,end_comm_oos,\"M\")\n",
    "rolling_returns_comm, weight_var_comm = get_rolling_returns(comm_data,oos_comm_data, 2*365)\n",
    "comm_stats = get_ret_stats(rolling_returns_comm)"
   ]
  },
  {
   "cell_type": "code",
   "execution_count": 8,
   "id": "c6dd77b8",
   "metadata": {},
   "outputs": [
    {
     "data": {
      "text/html": [
       "<div>\n",
       "<style scoped>\n",
       "    .dataframe tbody tr th:only-of-type {\n",
       "        vertical-align: middle;\n",
       "    }\n",
       "\n",
       "    .dataframe tbody tr th {\n",
       "        vertical-align: top;\n",
       "    }\n",
       "\n",
       "    .dataframe thead th {\n",
       "        text-align: right;\n",
       "    }\n",
       "</style>\n",
       "<table border=\"1\" class=\"dataframe\">\n",
       "  <thead>\n",
       "    <tr style=\"text-align: right;\">\n",
       "      <th></th>\n",
       "      <th>EQ_Ret</th>\n",
       "      <th>HRP_Ret</th>\n",
       "      <th>RP_Ret</th>\n",
       "      <th>MV_Ret</th>\n",
       "    </tr>\n",
       "    <tr>\n",
       "      <th>Date</th>\n",
       "      <th></th>\n",
       "      <th></th>\n",
       "      <th></th>\n",
       "      <th></th>\n",
       "    </tr>\n",
       "  </thead>\n",
       "  <tbody>\n",
       "    <tr>\n",
       "      <th>2019-01-31</th>\n",
       "      <td>1.03364</td>\n",
       "      <td>1.03606</td>\n",
       "      <td>1.03366</td>\n",
       "      <td>1.03363</td>\n",
       "    </tr>\n",
       "    <tr>\n",
       "      <th>2019-02-28</th>\n",
       "      <td>1.01102</td>\n",
       "      <td>1.00329</td>\n",
       "      <td>0.997027</td>\n",
       "      <td>1.01272</td>\n",
       "    </tr>\n",
       "    <tr>\n",
       "      <th>2019-03-31</th>\n",
       "      <td>1.01024</td>\n",
       "      <td>0.995278</td>\n",
       "      <td>0.993784</td>\n",
       "      <td>0.996658</td>\n",
       "    </tr>\n",
       "    <tr>\n",
       "      <th>2019-04-30</th>\n",
       "      <td>0.997369</td>\n",
       "      <td>0.989207</td>\n",
       "      <td>0.989263</td>\n",
       "      <td>0.99079</td>\n",
       "    </tr>\n",
       "    <tr>\n",
       "      <th>2019-05-31</th>\n",
       "      <td>0.999773</td>\n",
       "      <td>1.00739</td>\n",
       "      <td>1.01868</td>\n",
       "      <td>1.0286</td>\n",
       "    </tr>\n",
       "  </tbody>\n",
       "</table>\n",
       "</div>"
      ],
      "text/plain": [
       "             EQ_Ret  HRP_Ret   RP_Ret   MV_Ret\n",
       "Date                                          \n",
       "2019-01-31  1.03364  1.03606  1.03366  1.03363\n",
       "2019-02-28  1.01102  1.00329 0.997027  1.01272\n",
       "2019-03-31  1.01024 0.995278 0.993784 0.996658\n",
       "2019-04-30 0.997369 0.989207 0.989263  0.99079\n",
       "2019-05-31 0.999773  1.00739  1.01868   1.0286"
      ]
     },
     "execution_count": 8,
     "metadata": {},
     "output_type": "execute_result"
    }
   ],
   "source": [
    "rolling_returns_comm.head(5)"
   ]
  },
  {
   "cell_type": "code",
   "execution_count": 9,
   "id": "3273e7eb",
   "metadata": {},
   "outputs": [
    {
     "data": {
      "text/html": [
       "<div>\n",
       "<style scoped>\n",
       "    .dataframe tbody tr th:only-of-type {\n",
       "        vertical-align: middle;\n",
       "    }\n",
       "\n",
       "    .dataframe tbody tr th {\n",
       "        vertical-align: top;\n",
       "    }\n",
       "\n",
       "    .dataframe thead th {\n",
       "        text-align: right;\n",
       "    }\n",
       "</style>\n",
       "<table border=\"1\" class=\"dataframe\">\n",
       "  <thead>\n",
       "    <tr style=\"text-align: right;\">\n",
       "      <th></th>\n",
       "      <th>EQ_Ret</th>\n",
       "      <th>HRP_Ret</th>\n",
       "      <th>RP_Ret</th>\n",
       "      <th>MV_Ret</th>\n",
       "    </tr>\n",
       "  </thead>\n",
       "  <tbody>\n",
       "    <tr>\n",
       "      <th>Mean</th>\n",
       "      <td>1.01077</td>\n",
       "      <td>1.00884</td>\n",
       "      <td>1.00971</td>\n",
       "      <td>1.01034</td>\n",
       "    </tr>\n",
       "    <tr>\n",
       "      <th>Variance</th>\n",
       "      <td>0.00274263</td>\n",
       "      <td>0.00146999</td>\n",
       "      <td>0.00144529</td>\n",
       "      <td>0.000947282</td>\n",
       "    </tr>\n",
       "  </tbody>\n",
       "</table>\n",
       "</div>"
      ],
      "text/plain": [
       "             EQ_Ret    HRP_Ret     RP_Ret      MV_Ret\n",
       "Mean        1.01077    1.00884    1.00971     1.01034\n",
       "Variance 0.00274263 0.00146999 0.00144529 0.000947282"
      ]
     },
     "execution_count": 9,
     "metadata": {},
     "output_type": "execute_result"
    }
   ],
   "source": [
    "comm_stats"
   ]
  },
  {
   "cell_type": "code",
   "execution_count": 10,
   "id": "04f54fd7",
   "metadata": {},
   "outputs": [
    {
     "data": {
      "text/html": [
       "<div>\n",
       "<style scoped>\n",
       "    .dataframe tbody tr th:only-of-type {\n",
       "        vertical-align: middle;\n",
       "    }\n",
       "\n",
       "    .dataframe tbody tr th {\n",
       "        vertical-align: top;\n",
       "    }\n",
       "\n",
       "    .dataframe thead th {\n",
       "        text-align: right;\n",
       "    }\n",
       "</style>\n",
       "<table border=\"1\" class=\"dataframe\">\n",
       "  <thead>\n",
       "    <tr style=\"text-align: right;\">\n",
       "      <th></th>\n",
       "      <th>Variance</th>\n",
       "    </tr>\n",
       "  </thead>\n",
       "  <tbody>\n",
       "    <tr>\n",
       "      <th>HRP</th>\n",
       "      <td>0.000645423</td>\n",
       "    </tr>\n",
       "    <tr>\n",
       "      <th>RP</th>\n",
       "      <td>0.00101096</td>\n",
       "    </tr>\n",
       "    <tr>\n",
       "      <th>MV</th>\n",
       "      <td>0.00390915</td>\n",
       "    </tr>\n",
       "  </tbody>\n",
       "</table>\n",
       "</div>"
      ],
      "text/plain": [
       "       Variance\n",
       "HRP 0.000645423\n",
       "RP   0.00101096\n",
       "MV   0.00390915"
      ]
     },
     "execution_count": 10,
     "metadata": {},
     "output_type": "execute_result"
    }
   ],
   "source": [
    "weight_var_comm"
   ]
  },
  {
   "cell_type": "markdown",
   "id": "4c60556c",
   "metadata": {},
   "source": [
    "### INDEXES"
   ]
  },
  {
   "cell_type": "code",
   "execution_count": 11,
   "id": "679b0846",
   "metadata": {},
   "outputs": [
    {
     "name": "stdout",
     "output_type": "stream",
     "text": [
      "Starting train iteration 1. Start: 2016-12-31. End: 2018-12-31\n",
      "Starting train iteration 5. Start: 2017-04-30. End: 2019-04-30\n",
      "Starting train iteration 10. Start: 2017-09-30. End: 2019-09-30\n",
      "Starting train iteration 15. Start: 2018-03-01. End: 2020-02-29\n",
      "Starting train iteration 20. Start: 2018-08-01. End: 2020-07-31\n",
      "Starting train iteration 25. Start: 2019-01-01. End: 2020-12-31\n",
      "Starting train iteration 30. Start: 2019-06-01. End: 2021-05-31\n",
      "Starting train iteration 35. Start: 2019-11-01. End: 2021-10-31\n",
      "Starting train iteration 40. Start: 2020-03-31. End: 2022-03-31\n",
      "Starting train iteration 45. Start: 2020-08-31. End: 2022-08-31\n",
      "Starting train iteration 50. Start: 2021-01-31. End: 2023-01-31\n",
      "Starting train iteration 55. Start: 2021-06-30. End: 2023-06-30\n",
      "Starting train iteration 60. Start: 2021-11-30. End: 2023-11-30\n",
      "Starting train iteration 65. Start: 2022-05-01. End: 2024-04-30\n",
      "Starting train iteration 70. Start: 2022-10-01. End: 2024-09-30\n",
      "Time Taken for training: 1.9415 sec\n"
     ]
    }
   ],
   "source": [
    "ind_data = pd.read_csv('data/daily_index_data_last_5_years.csv')\n",
    "ind_data['Date'] = pd.to_datetime(ind_data['Date'])\n",
    "\n",
    "start_ind_oos = '2019-01-01'\n",
    "end_ind_oos= '2024-12-31'\n",
    "\n",
    "oos_ind_data = get_oos_ret_freq(ind_data,start_ind_oos,end_ind_oos,\"M\")\n",
    "rolling_returns_ind, weight_var_ind = get_rolling_returns(ind_data,oos_ind_data, 2*365)\n",
    "ind_stats = get_ret_stats(rolling_returns_ind)"
   ]
  },
  {
   "cell_type": "code",
   "execution_count": 12,
   "id": "03d4aebe",
   "metadata": {},
   "outputs": [
    {
     "data": {
      "text/html": [
       "<div>\n",
       "<style scoped>\n",
       "    .dataframe tbody tr th:only-of-type {\n",
       "        vertical-align: middle;\n",
       "    }\n",
       "\n",
       "    .dataframe tbody tr th {\n",
       "        vertical-align: top;\n",
       "    }\n",
       "\n",
       "    .dataframe thead th {\n",
       "        text-align: right;\n",
       "    }\n",
       "</style>\n",
       "<table border=\"1\" class=\"dataframe\">\n",
       "  <thead>\n",
       "    <tr style=\"text-align: right;\">\n",
       "      <th></th>\n",
       "      <th>EQ_Ret</th>\n",
       "      <th>HRP_Ret</th>\n",
       "      <th>RP_Ret</th>\n",
       "      <th>MV_Ret</th>\n",
       "    </tr>\n",
       "    <tr>\n",
       "      <th>Date</th>\n",
       "      <th></th>\n",
       "      <th></th>\n",
       "      <th></th>\n",
       "      <th></th>\n",
       "    </tr>\n",
       "  </thead>\n",
       "  <tbody>\n",
       "    <tr>\n",
       "      <th>2019-01-31</th>\n",
       "      <td>1.08284</td>\n",
       "      <td>1.07669</td>\n",
       "      <td>1.07946</td>\n",
       "      <td>1.06239</td>\n",
       "    </tr>\n",
       "    <tr>\n",
       "      <th>2019-02-28</th>\n",
       "      <td>1.02777</td>\n",
       "      <td>1.02226</td>\n",
       "      <td>1.02663</td>\n",
       "      <td>1.00871</td>\n",
       "    </tr>\n",
       "    <tr>\n",
       "      <th>2019-03-31</th>\n",
       "      <td>1.0121</td>\n",
       "      <td>1.01436</td>\n",
       "      <td>1.01229</td>\n",
       "      <td>1.01757</td>\n",
       "    </tr>\n",
       "    <tr>\n",
       "      <th>2019-04-30</th>\n",
       "      <td>1.03487</td>\n",
       "      <td>1.03188</td>\n",
       "      <td>1.03454</td>\n",
       "      <td>1.02706</td>\n",
       "    </tr>\n",
       "    <tr>\n",
       "      <th>2019-05-31</th>\n",
       "      <td>0.938263</td>\n",
       "      <td>0.945311</td>\n",
       "      <td>0.939737</td>\n",
       "      <td>0.956703</td>\n",
       "    </tr>\n",
       "  </tbody>\n",
       "</table>\n",
       "</div>"
      ],
      "text/plain": [
       "             EQ_Ret  HRP_Ret   RP_Ret   MV_Ret\n",
       "Date                                          \n",
       "2019-01-31  1.08284  1.07669  1.07946  1.06239\n",
       "2019-02-28  1.02777  1.02226  1.02663  1.00871\n",
       "2019-03-31   1.0121  1.01436  1.01229  1.01757\n",
       "2019-04-30  1.03487  1.03188  1.03454  1.02706\n",
       "2019-05-31 0.938263 0.945311 0.939737 0.956703"
      ]
     },
     "execution_count": 12,
     "metadata": {},
     "output_type": "execute_result"
    }
   ],
   "source": [
    "rolling_returns_ind.head(5)"
   ]
  },
  {
   "cell_type": "code",
   "execution_count": 13,
   "id": "c148a0c2",
   "metadata": {},
   "outputs": [
    {
     "data": {
      "text/html": [
       "<div>\n",
       "<style scoped>\n",
       "    .dataframe tbody tr th:only-of-type {\n",
       "        vertical-align: middle;\n",
       "    }\n",
       "\n",
       "    .dataframe tbody tr th {\n",
       "        vertical-align: top;\n",
       "    }\n",
       "\n",
       "    .dataframe thead th {\n",
       "        text-align: right;\n",
       "    }\n",
       "</style>\n",
       "<table border=\"1\" class=\"dataframe\">\n",
       "  <thead>\n",
       "    <tr style=\"text-align: right;\">\n",
       "      <th></th>\n",
       "      <th>EQ_Ret</th>\n",
       "      <th>HRP_Ret</th>\n",
       "      <th>RP_Ret</th>\n",
       "      <th>MV_Ret</th>\n",
       "    </tr>\n",
       "  </thead>\n",
       "  <tbody>\n",
       "    <tr>\n",
       "      <th>Mean</th>\n",
       "      <td>1.01073</td>\n",
       "      <td>1.00873</td>\n",
       "      <td>1.00966</td>\n",
       "      <td>1.00402</td>\n",
       "    </tr>\n",
       "    <tr>\n",
       "      <th>Variance</th>\n",
       "      <td>0.00224299</td>\n",
       "      <td>0.00182562</td>\n",
       "      <td>0.00202402</td>\n",
       "      <td>0.00137682</td>\n",
       "    </tr>\n",
       "  </tbody>\n",
       "</table>\n",
       "</div>"
      ],
      "text/plain": [
       "             EQ_Ret    HRP_Ret     RP_Ret     MV_Ret\n",
       "Mean        1.01073    1.00873    1.00966    1.00402\n",
       "Variance 0.00224299 0.00182562 0.00202402 0.00137682"
      ]
     },
     "execution_count": 13,
     "metadata": {},
     "output_type": "execute_result"
    }
   ],
   "source": [
    "ind_stats"
   ]
  },
  {
   "cell_type": "code",
   "execution_count": 14,
   "id": "daced086",
   "metadata": {},
   "outputs": [
    {
     "data": {
      "text/html": [
       "<div>\n",
       "<style scoped>\n",
       "    .dataframe tbody tr th:only-of-type {\n",
       "        vertical-align: middle;\n",
       "    }\n",
       "\n",
       "    .dataframe tbody tr th {\n",
       "        vertical-align: top;\n",
       "    }\n",
       "\n",
       "    .dataframe thead th {\n",
       "        text-align: right;\n",
       "    }\n",
       "</style>\n",
       "<table border=\"1\" class=\"dataframe\">\n",
       "  <thead>\n",
       "    <tr style=\"text-align: right;\">\n",
       "      <th></th>\n",
       "      <th>Variance</th>\n",
       "    </tr>\n",
       "  </thead>\n",
       "  <tbody>\n",
       "    <tr>\n",
       "      <th>HRP</th>\n",
       "      <td>0.000416384</td>\n",
       "    </tr>\n",
       "    <tr>\n",
       "      <th>RP</th>\n",
       "      <td>0.000129581</td>\n",
       "    </tr>\n",
       "    <tr>\n",
       "      <th>MV</th>\n",
       "      <td>0.886955</td>\n",
       "    </tr>\n",
       "  </tbody>\n",
       "</table>\n",
       "</div>"
      ],
      "text/plain": [
       "       Variance\n",
       "HRP 0.000416384\n",
       "RP  0.000129581\n",
       "MV     0.886955"
      ]
     },
     "execution_count": 14,
     "metadata": {},
     "output_type": "execute_result"
    }
   ],
   "source": [
    "weight_var_ind"
   ]
  },
  {
   "cell_type": "markdown",
   "id": "2ea23f62",
   "metadata": {},
   "source": [
    "### CURRENCIES"
   ]
  },
  {
   "cell_type": "code",
   "execution_count": 15,
   "id": "1157846b",
   "metadata": {},
   "outputs": [
    {
     "name": "stdout",
     "output_type": "stream",
     "text": [
      "Starting train iteration 1. Start: 2020-01-01. End: 2021-12-31\n",
      "Starting train iteration 5. Start: 2020-04-30. End: 2022-04-30\n",
      "Starting train iteration 10. Start: 2020-09-30. End: 2022-09-30\n",
      "Starting train iteration 15. Start: 2021-02-28. End: 2023-02-28\n",
      "Starting train iteration 20. Start: 2021-07-31. End: 2023-07-31\n",
      "Starting train iteration 25. Start: 2021-12-31. End: 2023-12-31\n",
      "Starting train iteration 30. Start: 2022-06-01. End: 2024-05-31\n",
      "Starting train iteration 35. Start: 2022-11-01. End: 2024-10-31\n",
      "Time Taken for training: 0.5520 sec\n"
     ]
    }
   ],
   "source": [
    "curr = pd.read_csv('data/usd_exchange_rates.csv')\n",
    "curr['Date'] = pd.to_datetime(curr['Date'])\n",
    "curr_data = curr.copy()\n",
    "curr_data.iloc[:,1:] = curr_data.iloc[:,1:].replace(\".\",np.nan).apply(pd.to_numeric)\n",
    "\n",
    "start_curr_oos = '2022-01-01'\n",
    "end_curr_oos= '2024-12-31'\n",
    "\n",
    "oos_curr_data = get_oos_ret_freq(curr_data,start_curr_oos,end_curr_oos,\"M\")\n",
    "rolling_returns_curr, weight_var_curr = get_rolling_returns(curr_data,oos_curr_data, 2*365)\n",
    "curr_stats = get_ret_stats(rolling_returns_curr)"
   ]
  },
  {
   "cell_type": "code",
   "execution_count": 16,
   "id": "aef47e52",
   "metadata": {},
   "outputs": [
    {
     "data": {
      "text/html": [
       "<div>\n",
       "<style scoped>\n",
       "    .dataframe tbody tr th:only-of-type {\n",
       "        vertical-align: middle;\n",
       "    }\n",
       "\n",
       "    .dataframe tbody tr th {\n",
       "        vertical-align: top;\n",
       "    }\n",
       "\n",
       "    .dataframe thead th {\n",
       "        text-align: right;\n",
       "    }\n",
       "</style>\n",
       "<table border=\"1\" class=\"dataframe\">\n",
       "  <thead>\n",
       "    <tr style=\"text-align: right;\">\n",
       "      <th></th>\n",
       "      <th>EQ_Ret</th>\n",
       "      <th>HRP_Ret</th>\n",
       "      <th>RP_Ret</th>\n",
       "      <th>MV_Ret</th>\n",
       "    </tr>\n",
       "    <tr>\n",
       "      <th>Date</th>\n",
       "      <th></th>\n",
       "      <th></th>\n",
       "      <th></th>\n",
       "      <th></th>\n",
       "    </tr>\n",
       "  </thead>\n",
       "  <tbody>\n",
       "    <tr>\n",
       "      <th>2019-01-31</th>\n",
       "      <td>1.03364</td>\n",
       "      <td>1.03606</td>\n",
       "      <td>1.03366</td>\n",
       "      <td>1.03363</td>\n",
       "    </tr>\n",
       "    <tr>\n",
       "      <th>2019-02-28</th>\n",
       "      <td>1.01102</td>\n",
       "      <td>1.00329</td>\n",
       "      <td>0.997027</td>\n",
       "      <td>1.01272</td>\n",
       "    </tr>\n",
       "    <tr>\n",
       "      <th>2019-03-31</th>\n",
       "      <td>1.01024</td>\n",
       "      <td>0.995278</td>\n",
       "      <td>0.993784</td>\n",
       "      <td>0.996658</td>\n",
       "    </tr>\n",
       "    <tr>\n",
       "      <th>2019-04-30</th>\n",
       "      <td>0.997369</td>\n",
       "      <td>0.989207</td>\n",
       "      <td>0.989263</td>\n",
       "      <td>0.99079</td>\n",
       "    </tr>\n",
       "    <tr>\n",
       "      <th>2019-05-31</th>\n",
       "      <td>0.999773</td>\n",
       "      <td>1.00739</td>\n",
       "      <td>1.01868</td>\n",
       "      <td>1.0286</td>\n",
       "    </tr>\n",
       "  </tbody>\n",
       "</table>\n",
       "</div>"
      ],
      "text/plain": [
       "             EQ_Ret  HRP_Ret   RP_Ret   MV_Ret\n",
       "Date                                          \n",
       "2019-01-31  1.03364  1.03606  1.03366  1.03363\n",
       "2019-02-28  1.01102  1.00329 0.997027  1.01272\n",
       "2019-03-31  1.01024 0.995278 0.993784 0.996658\n",
       "2019-04-30 0.997369 0.989207 0.989263  0.99079\n",
       "2019-05-31 0.999773  1.00739  1.01868   1.0286"
      ]
     },
     "execution_count": 16,
     "metadata": {},
     "output_type": "execute_result"
    }
   ],
   "source": [
    "rolling_returns_comm.head(5)"
   ]
  },
  {
   "cell_type": "code",
   "execution_count": 17,
   "id": "e8e44eea",
   "metadata": {},
   "outputs": [
    {
     "data": {
      "text/html": [
       "<div>\n",
       "<style scoped>\n",
       "    .dataframe tbody tr th:only-of-type {\n",
       "        vertical-align: middle;\n",
       "    }\n",
       "\n",
       "    .dataframe tbody tr th {\n",
       "        vertical-align: top;\n",
       "    }\n",
       "\n",
       "    .dataframe thead th {\n",
       "        text-align: right;\n",
       "    }\n",
       "</style>\n",
       "<table border=\"1\" class=\"dataframe\">\n",
       "  <thead>\n",
       "    <tr style=\"text-align: right;\">\n",
       "      <th></th>\n",
       "      <th>EQ_Ret</th>\n",
       "      <th>HRP_Ret</th>\n",
       "      <th>RP_Ret</th>\n",
       "      <th>MV_Ret</th>\n",
       "    </tr>\n",
       "  </thead>\n",
       "  <tbody>\n",
       "    <tr>\n",
       "      <th>Mean</th>\n",
       "      <td>1.01077</td>\n",
       "      <td>1.00884</td>\n",
       "      <td>1.00971</td>\n",
       "      <td>1.01034</td>\n",
       "    </tr>\n",
       "    <tr>\n",
       "      <th>Variance</th>\n",
       "      <td>0.00274263</td>\n",
       "      <td>0.00146999</td>\n",
       "      <td>0.00144529</td>\n",
       "      <td>0.000947282</td>\n",
       "    </tr>\n",
       "  </tbody>\n",
       "</table>\n",
       "</div>"
      ],
      "text/plain": [
       "             EQ_Ret    HRP_Ret     RP_Ret      MV_Ret\n",
       "Mean        1.01077    1.00884    1.00971     1.01034\n",
       "Variance 0.00274263 0.00146999 0.00144529 0.000947282"
      ]
     },
     "execution_count": 17,
     "metadata": {},
     "output_type": "execute_result"
    }
   ],
   "source": [
    "comm_stats"
   ]
  },
  {
   "cell_type": "code",
   "execution_count": 18,
   "id": "20e90279",
   "metadata": {},
   "outputs": [
    {
     "data": {
      "text/html": [
       "<div>\n",
       "<style scoped>\n",
       "    .dataframe tbody tr th:only-of-type {\n",
       "        vertical-align: middle;\n",
       "    }\n",
       "\n",
       "    .dataframe tbody tr th {\n",
       "        vertical-align: top;\n",
       "    }\n",
       "\n",
       "    .dataframe thead th {\n",
       "        text-align: right;\n",
       "    }\n",
       "</style>\n",
       "<table border=\"1\" class=\"dataframe\">\n",
       "  <thead>\n",
       "    <tr style=\"text-align: right;\">\n",
       "      <th></th>\n",
       "      <th>Variance</th>\n",
       "    </tr>\n",
       "  </thead>\n",
       "  <tbody>\n",
       "    <tr>\n",
       "      <th>HRP</th>\n",
       "      <td>0.00356202</td>\n",
       "    </tr>\n",
       "    <tr>\n",
       "      <th>RP</th>\n",
       "      <td>0.000940303</td>\n",
       "    </tr>\n",
       "    <tr>\n",
       "      <th>MV</th>\n",
       "      <td>0.000437704</td>\n",
       "    </tr>\n",
       "  </tbody>\n",
       "</table>\n",
       "</div>"
      ],
      "text/plain": [
       "       Variance\n",
       "HRP  0.00356202\n",
       "RP  0.000940303\n",
       "MV  0.000437704"
      ]
     },
     "execution_count": 18,
     "metadata": {},
     "output_type": "execute_result"
    }
   ],
   "source": [
    "weight_var_curr"
   ]
  },
  {
   "cell_type": "markdown",
   "id": "f3c474d0",
   "metadata": {},
   "source": [
    "## Visuals"
   ]
  },
  {
   "cell_type": "code",
   "execution_count": 24,
   "id": "469407b0",
   "metadata": {},
   "outputs": [],
   "source": [
    "import seaborn as sns"
   ]
  },
  {
   "cell_type": "code",
   "execution_count": 25,
   "id": "392eb3ac",
   "metadata": {},
   "outputs": [],
   "source": [
    "def plot_risk_return_heatmap():\n",
    "    # Combine stats for all asset classes\n",
    "    stats_dict = {\n",
    "        'Equities': equity_stats,\n",
    "        'Commodities': comm_stats,\n",
    "        'Indices': ind_stats,\n",
    "        'Currencies': curr_stats\n",
    "    }\n",
    "    \n",
    "    # Create separate arrays for mean returns and variances\n",
    "    mean_returns = pd.DataFrame({\n",
    "        asset: df.loc['Mean'] \n",
    "        for asset, df in stats_dict.items()\n",
    "    }).T\n",
    "    \n",
    "    risk = pd.DataFrame({\n",
    "        asset: df.loc['Variance'] \n",
    "        for asset, df in stats_dict.items()\n",
    "    }).T\n",
    "    \n",
    "    fig, (ax1, ax2) = plt.subplots(1, 2, figsize=(15, 6))\n",
    "    \n",
    "    # Plot mean returns heatmap\n",
    "    sns.heatmap(mean_returns, annot=True, fmt='.4f', cmap='RdYlGn', ax=ax1)\n",
    "    ax1.set_title('Mean Returns by Strategy and Asset Class')\n",
    "    \n",
    "    # Plot risk heatmap\n",
    "    sns.heatmap(risk, annot=True, fmt='.4f', cmap='RdYlGn_r', ax=ax2)\n",
    "    ax2.set_title('Risk (Variance) by Strategy and Asset Class')\n",
    "    \n",
    "    plt.tight_layout()"
   ]
  },
  {
   "cell_type": "code",
   "execution_count": 28,
   "id": "173bb29b",
   "metadata": {},
   "outputs": [
    {
     "data": {
      "image/png": "[encoded data removed]",
      "text/plain": [
       "<Figure size 1500x600 with 4 Axes>"
      ]
     },
     "metadata": {},
     "output_type": "display_data"
    }
   ],
   "source": [
    "plot_risk_return_heatmap()"
   ]
  },
  {
   "cell_type": "code",
   "execution_count": null,
   "id": "07eaf06f",
   "metadata": {},
   "outputs": [],
   "source": []
  }
 ],
 "metadata": {
  "kernelspec": {
   "display_name": "Python 3 (ipykernel)",
   "language": "python",
   "name": "python3"
  },
  "language_info": {
   "codemirror_mode": {
    "name": "ipython",
    "version": 3
   },
   "file_extension": ".py",
   "mimetype": "text/x-python",
   "name": "python",
   "nbconvert_exporter": "python",
   "pygments_lexer": "ipython3",
   "version": "3.11.7"
  }
 },
 "nbformat": 4,
 "nbformat_minor": 5
}
